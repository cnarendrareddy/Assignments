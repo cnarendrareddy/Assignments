{
 "cells": [
  {
   "cell_type": "markdown",
   "id": "a8e5fc58",
   "metadata": {},
   "source": [
    "1. In the below elements which of them are values or an expression? eg:- values can be integer or string and expressions will be mathematical operators.\n",
    "* \n",
    "'hello'\n",
    "-87.8\n",
    "- \n",
    "/ \n",
    "+\t\n",
    "6 \n"
   ]
  },
  {
   "cell_type": "markdown",
   "id": "91aecfdb",
   "metadata": {},
   "source": [
    " *                expression\n",
    "'hello'          value\n",
    "-87.8            value\n",
    "-                expression\n",
    "/                expression\n",
    "+\t             expression\n",
    "6                value"
   ]
  },
  {
   "cell_type": "markdown",
   "id": "b5918383",
   "metadata": {},
   "source": [
    "2. What is the difference between string and variable?"
   ]
  },
  {
   "cell_type": "markdown",
   "id": "2233b884",
   "metadata": {},
   "source": [
    "string is alpha charecters in between \"\" or '' like \"Test\" or 'Test'.\n",
    "string is immutable object. not allow to cahnge the base string.\n",
    "\n",
    "Assing the diffrent type of data is assining to variable that to any datatypes like string, integer, float, boolean.\n",
    "once declare the variable for that variable temp memory is allocated in RAM."
   ]
  },
  {
   "cell_type": "markdown",
   "id": "02a5d94f",
   "metadata": {},
   "source": [
    "3. Describe three different data types."
   ]
  },
  {
   "cell_type": "markdown",
   "id": "6a34cc76",
   "metadata": {},
   "source": [
    "string\n",
    "integer\n",
    "float\n",
    "boolean"
   ]
  },
  {
   "cell_type": "markdown",
   "id": "4f29af4e",
   "metadata": {},
   "source": [
    "4. What is an expression made up of? What do all expressions do?"
   ]
  },
  {
   "cell_type": "markdown",
   "id": "81828bab",
   "metadata": {},
   "source": [
    "expression is combination of variables, values, operators and mathematical symbols\n",
    "generate new values/ data using the expressions\n",
    "\n",
    "ex: a = 2 + 5"
   ]
  },
  {
   "cell_type": "markdown",
   "id": "82ad80fd",
   "metadata": {},
   "source": [
    "5. This assignment statements, like spam = 10. What is the difference between an expression and a statement?"
   ]
  },
  {
   "cell_type": "markdown",
   "id": "e3a858e7",
   "metadata": {},
   "source": [
    "declaring value to a variable as assignment\n",
    "\n",
    "expression combination variables, values and operators."
   ]
  },
  {
   "cell_type": "markdown",
   "id": "52502cd9",
   "metadata": {},
   "source": [
    "6. After running the following code, what does the variable bacon contain?\n",
    "bacon = 22\n",
    "bacon + 1"
   ]
  },
  {
   "cell_type": "code",
   "execution_count": 6,
   "id": "1dbccb46",
   "metadata": {},
   "outputs": [
    {
     "data": {
      "text/plain": [
       "23"
      ]
     },
     "execution_count": 6,
     "metadata": {},
     "output_type": "execute_result"
    }
   ],
   "source": [
    "bacon = 22  # here value is 22\n",
    "bacon + 1   # here value is 23\n",
    "#bacon       # bacon value is 22"
   ]
  },
  {
   "cell_type": "markdown",
   "id": "2c2bf273",
   "metadata": {},
   "source": [
    "7. What should the values of the following two terms be?\n",
    "'spam' + 'spamspam'\n",
    "'spam' * 3"
   ]
  },
  {
   "cell_type": "code",
   "execution_count": 9,
   "id": "60d5ac75",
   "metadata": {},
   "outputs": [
    {
     "data": {
      "text/plain": [
       "'spamspamspam'"
      ]
     },
     "execution_count": 9,
     "metadata": {},
     "output_type": "execute_result"
    }
   ],
   "source": [
    "'spam' + 'spamspam'       # spamspamspam\n",
    "'spam' * 3              # spamspamspam"
   ]
  },
  {
   "cell_type": "markdown",
   "id": "1ae9a146",
   "metadata": {},
   "source": [
    "8. Why is eggs a valid variable name while 100 is invalid?"
   ]
  },
  {
   "cell_type": "markdown",
   "id": "dcb72cd4",
   "metadata": {},
   "source": [
    "as per the programing language syntax the alpha variables only allow as variable for declaration not numbers"
   ]
  },
  {
   "cell_type": "markdown",
   "id": "3521621a",
   "metadata": {},
   "source": [
    "9. What three functions can be used to get the integer, floating-point number, or string version of a value?"
   ]
  },
  {
   "cell_type": "markdown",
   "id": "43b032cc",
   "metadata": {},
   "source": [
    "int(), float(), str()"
   ]
  },
  {
   "cell_type": "code",
   "execution_count": null,
   "id": "08325a9d",
   "metadata": {},
   "outputs": [],
   "source": [
    "10. Why does this expression cause an error? How can you fix it?\n",
    "'I have eaten ' + 99 + ' burritos.'"
   ]
  },
  {
   "cell_type": "code",
   "execution_count": 16,
   "id": "42669f60",
   "metadata": {},
   "outputs": [
    {
     "data": {
      "text/plain": [
       "'I have eaten 99 burritos.'"
      ]
     },
     "execution_count": 16,
     "metadata": {},
     "output_type": "execute_result"
    }
   ],
   "source": [
    "'I have eaten ' + str(99) + ' burritos.' # converting int to string "
   ]
  }
 ],
 "metadata": {
  "kernelspec": {
   "display_name": "Python 3 (ipykernel)",
   "language": "python",
   "name": "python3"
  },
  "language_info": {
   "codemirror_mode": {
    "name": "ipython",
    "version": 3
   },
   "file_extension": ".py",
   "mimetype": "text/x-python",
   "name": "python",
   "nbconvert_exporter": "python",
   "pygments_lexer": "ipython3",
   "version": "3.9.13"
  }
 },
 "nbformat": 4,
 "nbformat_minor": 5
}
