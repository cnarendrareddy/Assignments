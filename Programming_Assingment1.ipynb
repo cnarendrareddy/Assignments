{
 "cells": [
  {
   "cell_type": "markdown",
   "id": "d3829a54",
   "metadata": {},
   "source": [
    "1.\tWrite a Python program to print \"Hello Python\"?"
   ]
  },
  {
   "cell_type": "code",
   "execution_count": 5,
   "id": "9f0c5f4d",
   "metadata": {},
   "outputs": [
    {
     "name": "stdout",
     "output_type": "stream",
     "text": [
      "Hello Python\n"
     ]
    }
   ],
   "source": [
    "print (\"Hello Python\")"
   ]
  },
  {
   "cell_type": "markdown",
   "id": "fba7d41f",
   "metadata": {},
   "source": [
    "2.\tWrite a Python program to do arithmetical operations addition and division.?"
   ]
  },
  {
   "cell_type": "code",
   "execution_count": 8,
   "id": "73ec154b",
   "metadata": {},
   "outputs": [
    {
     "name": "stdout",
     "output_type": "stream",
     "text": [
      "15\n",
      "2.0\n"
     ]
    }
   ],
   "source": [
    "a=10\n",
    "b=5\n",
    "c = a+b\n",
    "print(c)\n",
    "d = a/b\n",
    "print(d)\n"
   ]
  },
  {
   "cell_type": "markdown",
   "id": "8fbef241",
   "metadata": {},
   "source": [
    "3.\tWrite a Python program to find the area of a triangle?"
   ]
  },
  {
   "cell_type": "code",
   "execution_count": 12,
   "id": "f3229859",
   "metadata": {},
   "outputs": [
    {
     "name": "stdout",
     "output_type": "stream",
     "text": [
      "get the param1 value : 5\n",
      "get the param2 value : 6\n",
      "get the param3 value : 7\n",
      " area of a triangle is 14.70\n"
     ]
    }
   ],
   "source": [
    "parm1 = int(input(\"get the param1 value : \"))\n",
    "parm2 = int(input(\"get the param2 value : \"))\n",
    "parm3 = int(input(\"get the param3 value : \"))\n",
    "\n",
    "var = (parm1 + parm2 + parm3) / 2\n",
    "\n",
    "area = (var*(var-parm1)*(var-parm2)*(var-parm3)) ** 0.5\n",
    "print(' area of a triangle is %0.2f' %area)"
   ]
  },
  {
   "cell_type": "markdown",
   "id": "853e7eec",
   "metadata": {},
   "source": [
    "4.\tWrite a Python program to swap two variables?"
   ]
  },
  {
   "cell_type": "code",
   "execution_count": 16,
   "id": "4c00719b",
   "metadata": {},
   "outputs": [
    {
     "name": "stdout",
     "output_type": "stream",
     "text": [
      "after swap value of var1 test\n",
      "after swap value of var2 10 \n"
     ]
    }
   ],
   "source": [
    "var1 = 10\n",
    "var2 = \"test\"\n",
    "tempvar = var1\n",
    "var1 = var2\n",
    "var2 = tempvar\n",
    "print (\"after swap value of var1 {}\" .format(var1))\n",
    "print (\"after swap value of var2 {} \" .format(var2))\n"
   ]
  },
  {
   "cell_type": "markdown",
   "id": "35f99614",
   "metadata": {},
   "source": [
    "5.\tWrite a Python program to generate a random number?"
   ]
  },
  {
   "cell_type": "code",
   "execution_count": 20,
   "id": "4b673ae9",
   "metadata": {},
   "outputs": [
    {
     "name": "stdout",
     "output_type": "stream",
     "text": [
      "4\n"
     ]
    }
   ],
   "source": [
    "import random\n",
    "\n",
    "list1 = [1, 2, 3, 4, 5, 6]\n",
    "print(random.choice(list1))\n"
   ]
  },
  {
   "cell_type": "code",
   "execution_count": null,
   "id": "9d9c34e6",
   "metadata": {},
   "outputs": [],
   "source": []
  }
 ],
 "metadata": {
  "kernelspec": {
   "display_name": "Python 3 (ipykernel)",
   "language": "python",
   "name": "python3"
  },
  "language_info": {
   "codemirror_mode": {
    "name": "ipython",
    "version": 3
   },
   "file_extension": ".py",
   "mimetype": "text/x-python",
   "name": "python",
   "nbconvert_exporter": "python",
   "pygments_lexer": "ipython3",
   "version": "3.9.13"
  }
 },
 "nbformat": 4,
 "nbformat_minor": 5
}
