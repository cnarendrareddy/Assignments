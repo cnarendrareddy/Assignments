{
 "cells": [
  {
   "cell_type": "markdown",
   "id": "9f63c346",
   "metadata": {},
   "source": [
    "1. What are the two values of the Boolean data type? How do you write them?"
   ]
  },
  {
   "cell_type": "markdown",
   "id": "7f1341bd",
   "metadata": {},
   "source": [
    "True and False"
   ]
  },
  {
   "cell_type": "markdown",
   "id": "8dcfa603",
   "metadata": {},
   "source": [
    "2. What are the three different types of Boolean operators?"
   ]
  },
  {
   "cell_type": "markdown",
   "id": "11f6e35c",
   "metadata": {},
   "source": [
    "and , or , not"
   ]
  },
  {
   "cell_type": "markdown",
   "id": "d790b32b",
   "metadata": {},
   "source": [
    "4. Make a list of each Boolean operator's truth tables (i.e. every possible combination of Boolean values for the operator and what it evaluate )."
   ]
  },
  {
   "cell_type": "markdown",
   "id": "8e225f2e",
   "metadata": {},
   "source": [
    "T and T = T\n",
    "T and F = F\n",
    "F and T = F\n",
    "F and F = F\n",
    "\n",
    "T or T = T\n",
    "T or F = T\n",
    "F or T = F\n",
    "F or F = F\n",
    "\n",
    "not(True) = F\n",
    "not(False) = T"
   ]
  },
  {
   "cell_type": "markdown",
   "id": "8050101b",
   "metadata": {},
   "source": [
    "4. What are the values of the following expressions?\n",
    "(5 > 4) and (3 == 5)\n",
    "not (5 > 4)\n",
    "(5 > 4) or (3 == 5)\n",
    "not ((5 > 4) or (3 == 5))\n",
    "(True and True) and (True == False)\n",
    "(not False) or (not True)\n"
   ]
  },
  {
   "cell_type": "code",
   "execution_count": null,
   "id": "b54aecb5",
   "metadata": {},
   "outputs": [],
   "source": [
    "T and F = F\n",
    "not(True) = F\n",
    "T or F = T\n",
    "not(T or F) = not (T) = F\n",
    "T and F = F\n",
    "T or F = T\n"
   ]
  },
  {
   "cell_type": "markdown",
   "id": "694f0c09",
   "metadata": {},
   "source": [
    "5. What are the six comparison operators?"
   ]
  },
  {
   "cell_type": "code",
   "execution_count": null,
   "id": "c82f5a9e",
   "metadata": {},
   "outputs": [],
   "source": [
    "==\n",
    "!=\n",
    "<\n",
    ">\n",
    "<=\n",
    ">="
   ]
  },
  {
   "cell_type": "markdown",
   "id": "788b0335",
   "metadata": {},
   "source": [
    "6. How do you tell the difference between the equal to and assignment operators?Describe a condition and when you would use one."
   ]
  },
  {
   "cell_type": "code",
   "execution_count": null,
   "id": "532ded41",
   "metadata": {},
   "outputs": [],
   "source": [
    "equal is the matching left side value (memory block) to right side value (memory block) and return boolean value\n",
    "\n",
    "ex:\n",
    "    String fstr = \"test\"\n",
    "    String sstr = \"test\"\n",
    "    if fstr == sstr:\n",
    "        print(\"ineuron\")\n",
    "    \n",
    "assignment is declaring value to a varaible\n",
    "\n",
    "ex:\n",
    "    string str = \"ineuron\"\n"
   ]
  },
  {
   "cell_type": "markdown",
   "id": "778101ad",
   "metadata": {},
   "source": [
    "7. Identify the three blocks in this code:\n",
    "spam = 0\n",
    "if spam == 10:\n",
    "print('eggs')\n",
    "if spam > 5:\n",
    "print('bacon')\n",
    "else:\n",
    "print('ham')\n",
    "print('spam')\n",
    "print('spam')\n"
   ]
  },
  {
   "cell_type": "code",
   "execution_count": null,
   "id": "01341edc",
   "metadata": {},
   "outputs": [],
   "source": [
    "spam = 0\n",
    "if spam == 10:\n",
    "    print('eggs')\n",
    "if spam > 5:\n",
    "    print('bacon')\n",
    "else:\n",
    "    print('ham')\n",
    "print('spam')\n",
    "print('spam')"
   ]
  },
  {
   "cell_type": "markdown",
   "id": "2c9bc231",
   "metadata": {},
   "source": [
    "8. Write code that prints Hello if 1 is stored in spam, prints Howdy if 2 is stored in spam, and prints Greetings! if anything else is stored in spam."
   ]
  },
  {
   "cell_type": "code",
   "execution_count": 13,
   "id": "22e910f3",
   "metadata": {},
   "outputs": [
    {
     "name": "stdout",
     "output_type": "stream",
     "text": [
      "Greetings\n"
     ]
    }
   ],
   "source": [
    "\n",
    "if spam == 1:\n",
    "    print (\"Hello\")\n",
    "elif spam == 2:\n",
    "    print (\"Howdy\")\n",
    "else :\n",
    "    print (\"Greetings\")\n"
   ]
  },
  {
   "cell_type": "markdown",
   "id": "40d6ca2e",
   "metadata": {},
   "source": [
    "9. If your programme is stuck in an endless loop, what keys you’ll press?"
   ]
  },
  {
   "cell_type": "markdown",
   "id": "cda2ef8d",
   "metadata": {},
   "source": [
    "ctrl + C"
   ]
  },
  {
   "cell_type": "markdown",
   "id": "162f384c",
   "metadata": {},
   "source": [
    "10. How can you tell the difference between break and continue?"
   ]
  },
  {
   "cell_type": "markdown",
   "id": "96906cf2",
   "metadata": {},
   "source": [
    "break is stop to proceed the next line of execution and quit from the loop\n",
    "continue is allow to procceed the next line of execution and move to begining of the loop"
   ]
  },
  {
   "cell_type": "markdown",
   "id": "f744861b",
   "metadata": {},
   "source": [
    "11. In a for loop, what is the difference between range(10), range(0, 10), and range(0, 10, 1)?"
   ]
  },
  {
   "cell_type": "code",
   "execution_count": null,
   "id": "995a5172",
   "metadata": {},
   "outputs": [],
   "source": [
    "no diff\n",
    "all are same result"
   ]
  },
  {
   "cell_type": "markdown",
   "id": "44900f9b",
   "metadata": {},
   "source": [
    "12. Write a short program that prints the numbers 1 to 10 using a for loop. Then write an equivalent program that prints the numbers 1 to 10 using a while loop."
   ]
  },
  {
   "cell_type": "code",
   "execution_count": 21,
   "id": "6f516d62",
   "metadata": {},
   "outputs": [
    {
     "data": {
      "text/plain": [
       "[1, 2, 3, 4, 5, 6, 7, 8, 9, 10]"
      ]
     },
     "execution_count": 21,
     "metadata": {},
     "output_type": "execute_result"
    }
   ],
   "source": [
    "[i for i in range(1,11) ]"
   ]
  },
  {
   "cell_type": "code",
   "execution_count": 24,
   "id": "2db2155c",
   "metadata": {},
   "outputs": [
    {
     "name": "stdout",
     "output_type": "stream",
     "text": [
      "1\n",
      "2\n",
      "3\n",
      "4\n",
      "5\n",
      "6\n",
      "7\n",
      "8\n",
      "9\n",
      "10\n"
     ]
    }
   ],
   "source": [
    "j=1\n",
    "while j <=10:\n",
    "    print(j)\n",
    "    j=j+1\n"
   ]
  },
  {
   "cell_type": "markdown",
   "id": "aff03f11",
   "metadata": {},
   "source": [
    "13. If you had a function named bacon() inside a module named spam, how would you call it after importing spam?"
   ]
  },
  {
   "cell_type": "code",
   "execution_count": null,
   "id": "d5e0e37f",
   "metadata": {},
   "outputs": [],
   "source": [
    "import spam\n",
    "spam.bacon()"
   ]
  }
 ],
 "metadata": {
  "kernelspec": {
   "display_name": "Python 3 (ipykernel)",
   "language": "python",
   "name": "python3"
  },
  "language_info": {
   "codemirror_mode": {
    "name": "ipython",
    "version": 3
   },
   "file_extension": ".py",
   "mimetype": "text/x-python",
   "name": "python",
   "nbconvert_exporter": "python",
   "pygments_lexer": "ipython3",
   "version": "3.9.13"
  }
 },
 "nbformat": 4,
 "nbformat_minor": 5
}
